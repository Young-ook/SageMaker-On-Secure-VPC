{
 "cells": [
  {
   "cell_type": "markdown",
   "metadata": {},
   "source": [
    "# [모듈 9.1] 다운로드 코드 (VPC에서 실행)\n",
    "\n",
    "이 노트북은 아래의 작업을 실행 합니다.\n",
    "- 데이터 및 코드의 위치 지정 (S3 버킷 주소 등)\n",
    "- 데이터 및 코드 다운로드\n",
    "- S3 data 위치 저장\n",
    "    - 다음 노트북의 모델 훈련시에 입력 데이터 위치로 사용함\n",
    "\n",
    "---"
   ]
  },
  {
   "cell_type": "markdown",
   "metadata": {},
   "source": [
    "### 데이터와 코드의 다운로드 위치 지정\n",
    "- 버킷 지정\n",
    "- 데이터, 코드의 폴더 경로 지정\n",
    "- 데이터, 코드 확인"
   ]
  },
  {
   "cell_type": "code",
   "execution_count": 6,
   "metadata": {},
   "outputs": [
    {
     "name": "stdout",
     "output_type": "stream",
     "text": [
      "sagemaker-us-west-2-057716757052/SVPC/data\n",
      "sagemaker-us-west-2-057716757052/SVPC/code\n"
     ]
    }
   ],
   "source": [
    "import os\n",
    "\n",
    "bucket = 'sagemaker-us-west-2-057716757052'\n",
    "code_prefix = 'SVPC/code'\n",
    "data_prefix = 'SVPC/data'\n",
    "\n",
    "data_path = os.path.join(bucket, data_prefix)\n",
    "print(data_path)\n",
    "code_path = os.path.join(bucket, code_prefix)\n",
    "print(code_path)"
   ]
  },
  {
   "cell_type": "code",
   "execution_count": 7,
   "metadata": {},
   "outputs": [
    {
     "name": "stdout",
     "output_type": "stream",
     "text": [
      "2021-01-26 03:18:21   31260000 SVPC/data/eval/eval.tfrecords\n",
      "2021-01-26 03:18:18  125040000 SVPC/data/train/train.tfrecords\n",
      "2021-01-26 03:18:23   31260000 SVPC/data/validation/validation.tfrecords\n"
     ]
    }
   ],
   "source": [
    "!aws s3 ls {data_path} --recursive"
   ]
  },
  {
   "cell_type": "code",
   "execution_count": 8,
   "metadata": {},
   "outputs": [
    {
     "name": "stdout",
     "output_type": "stream",
     "text": [
      "2021-01-26 03:18:26     375506 SVPC/code/2.1.Train-Model.ipynb\n",
      "2021-01-26 03:18:27       9973 SVPC/code/training_script/cifar10_keras_sm_tf2.py\n",
      "2021-01-26 03:18:27       9542 SVPC/code/training_script/cifar10_keras_tf2.py\n"
     ]
    }
   ],
   "source": [
    "!aws s3 ls {code_path} --recursive"
   ]
  },
  {
   "cell_type": "markdown",
   "metadata": {},
   "source": [
    "## 코드 및 데이터 다운로드"
   ]
  },
  {
   "cell_type": "code",
   "execution_count": 16,
   "metadata": {},
   "outputs": [],
   "source": [
    "import os\n",
    "code_folder = 'code'\n",
    "data_folder = 'code/data'\n",
    "\n",
    "os.makedirs(code_folder, exist_ok=True)\n",
    "os.makedirs(data_folder, exist_ok=True)"
   ]
  },
  {
   "cell_type": "code",
   "execution_count": 17,
   "metadata": {},
   "outputs": [
    {
     "name": "stdout",
     "output_type": "stream",
     "text": [
      "download: s3://sagemaker-us-west-2-057716757052/SVPC/code/training_script/cifar10_keras_tf2.py to code/training_script/cifar10_keras_tf2.py\n",
      "download: s3://sagemaker-us-west-2-057716757052/SVPC/code/training_script/cifar10_keras_sm_tf2.py to code/training_script/cifar10_keras_sm_tf2.py\n",
      "download: s3://sagemaker-us-west-2-057716757052/SVPC/code/2.1.Train-Model.ipynb to code/2.1.Train-Model.ipynb\n"
     ]
    }
   ],
   "source": [
    "!aws s3 cp s3://{code_path} {code_folder} --recursive"
   ]
  },
  {
   "cell_type": "code",
   "execution_count": 18,
   "metadata": {},
   "outputs": [
    {
     "name": "stdout",
     "output_type": "stream",
     "text": [
      "download: s3://sagemaker-us-west-2-057716757052/SVPC/data/eval/eval.tfrecords to code/data/eval/eval.tfrecords\n",
      "download: s3://sagemaker-us-west-2-057716757052/SVPC/data/validation/validation.tfrecords to code/data/validation/validation.tfrecords\n",
      "download: s3://sagemaker-us-west-2-057716757052/SVPC/data/train/train.tfrecords to code/data/train/train.tfrecords\n"
     ]
    }
   ],
   "source": [
    "!aws s3 cp s3://{data_path} {data_folder} --recursive"
   ]
  },
  {
   "cell_type": "markdown",
   "metadata": {},
   "source": [
    "## S3 data 위치 저장"
   ]
  },
  {
   "cell_type": "code",
   "execution_count": 23,
   "metadata": {},
   "outputs": [
    {
     "name": "stdout",
     "output_type": "stream",
     "text": [
      "s3://sagemaker-us-west-2-057716757052/SVPC/data\n"
     ]
    }
   ],
   "source": [
    "s3_data_path = os.path.join(bucket, data_prefix)\n",
    "dataset_location = 's3://' + s3_data_path\n",
    "print(dataset_location)"
   ]
  },
  {
   "cell_type": "code",
   "execution_count": 24,
   "metadata": {},
   "outputs": [
    {
     "name": "stdout",
     "output_type": "stream",
     "text": [
      "Stored 'dataset_location' (str)\n"
     ]
    }
   ],
   "source": [
    "%store dataset_location"
   ]
  },
  {
   "cell_type": "code",
   "execution_count": null,
   "metadata": {},
   "outputs": [],
   "source": []
  }
 ],
 "metadata": {
  "kernelspec": {
   "display_name": "conda_python3",
   "language": "python",
   "name": "conda_python3"
  },
  "language_info": {
   "codemirror_mode": {
    "name": "ipython",
    "version": 3
   },
   "file_extension": ".py",
   "mimetype": "text/x-python",
   "name": "python",
   "nbconvert_exporter": "python",
   "pygments_lexer": "ipython3",
   "version": "3.6.10"
  }
 },
 "nbformat": 4,
 "nbformat_minor": 4
}
