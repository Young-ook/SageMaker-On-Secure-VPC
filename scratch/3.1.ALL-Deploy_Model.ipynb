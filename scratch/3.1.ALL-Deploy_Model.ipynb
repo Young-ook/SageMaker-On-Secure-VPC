{
 "cells": [
  {
   "cell_type": "markdown",
   "metadata": {},
   "source": [
    "# [모듈 3.1] 모델 배포 및 추론 (VPC 및 No VPC 모두에서 사용 가능)\n",
    "\n",
    "이 노트북은 아래와 같은 작업을 합니다.\n",
    "- 엔드포인트 생성\n",
    "    - SageMaker Estimator 생성\n",
    "    - Training Job 을 Estimator 에 연결\n",
    "    - 엔드포인트 생성은 위의 방법 말고도 다른 방법이 추가적으로 있습니다. 아래를 참고 하세요\n",
    "        - https://docs.aws.amazon.com/ko_kr/sagemaker/latest/dg/ex1-deploy-model.html\n",
    "- 엔드포인트 대상으로 추론    \n",
    "    - 추론 예시 1, 2\n",
    "\n",
    "---"
   ]
  },
  {
   "cell_type": "code",
   "execution_count": 23,
   "metadata": {},
   "outputs": [],
   "source": [
    "import os\n",
    "import sagemaker\n",
    "from sagemaker import get_execution_role\n",
    "\n",
    "sagemaker_session = sagemaker.Session()\n",
    "\n",
    "role = get_execution_role()"
   ]
  },
  {
   "cell_type": "markdown",
   "metadata": {},
   "source": [
    "## SageMaker Estimator 생성\n",
    "SageMaker Estimator 인스턴스를 생성하고 `estimator.attach()`로 학습한 모델을 쉽게 불러올 수 있습니다."
   ]
  },
  {
   "cell_type": "code",
   "execution_count": 24,
   "metadata": {},
   "outputs": [
    {
     "name": "stderr",
     "output_type": "stream",
     "text": [
      "train_instance_type has been renamed in sagemaker>=2.\n",
      "See: https://sagemaker.readthedocs.io/en/stable/v2.html for details.\n",
      "train_instance_count has been renamed in sagemaker>=2.\n",
      "See: https://sagemaker.readthedocs.io/en/stable/v2.html for details.\n",
      "train_instance_type has been renamed in sagemaker>=2.\n",
      "See: https://sagemaker.readthedocs.io/en/stable/v2.html for details.\n"
     ]
    }
   ],
   "source": [
    "from sagemaker.tensorflow import TensorFlow\n",
    "estimator = TensorFlow(base_job_name='cifar10',\n",
    "                       entry_point='cifar10_keras_sm_tf2.py', # 여러분이 작성한 엔트리포인트 파일명으로 변경해 주세요\n",
    "                       source_dir='training_script',\n",
    "                       role=role,\n",
    "                       framework_version='2.0.0', # TensorFlow 버전을 지정합니다.\n",
    "                       py_version='py3',\n",
    "                       script_mode=True,                       \n",
    "                       hyperparameters={'epochs': 5},\n",
    "                       train_instance_count=1, \n",
    "                       train_instance_type='ml.p2.xlarge')"
   ]
  },
  {
   "cell_type": "markdown",
   "metadata": {},
   "source": [
    "## Training Job 을 Estimator 에 연결\n",
    "- 아래 이전 노트북에서 정의한 train_job_name를 불러와서 사용 합니다.\n",
    "- 다른 방법으로 SageMaker 콘솔 좌측 메뉴에서 `Training` > `Training jobs`를 클릭하여 이전 단계에서 수행했던 training_job_name을 그대로 가져옵니다.\n",
    "    - 참고로, 콘솔 접속 없이 주피터 노트북에서 아래 CLI 커맨드로 training job 목록들을 쉽게 확인할 수 있습니다.\n",
    "```shell\n",
    "!aws sagemaker list-training-jobs\n",
    "```"
   ]
  },
  {
   "cell_type": "code",
   "execution_count": 25,
   "metadata": {},
   "outputs": [],
   "source": [
    "%store -r train_job_name"
   ]
  },
  {
   "cell_type": "code",
   "execution_count": 26,
   "metadata": {},
   "outputs": [
    {
     "name": "stdout",
     "output_type": "stream",
     "text": [
      "\n",
      "2021-01-27 04:13:16 Starting - Preparing the instances for training\n",
      "2021-01-27 04:13:16 Downloading - Downloading input data\n",
      "2021-01-27 04:13:16 Training - Training image download completed. Training in progress.\n",
      "2021-01-27 04:13:16 Uploading - Uploading generated training model\n",
      "2021-01-27 04:13:16 Completed - Training job completed\n"
     ]
    }
   ],
   "source": [
    "#estimator = estimator.attach(training_job_name=)  ## Configure with your previous cifar10 job name\n",
    "estimator = estimator.attach(training_job_name=train_job_name)  ## Configure with your previous cifar10 job name"
   ]
  },
  {
   "cell_type": "markdown",
   "metadata": {},
   "source": [
    "## 엔드포인트 생성\n",
    "아래 코드 셀을 통해 SageMaker 엔드포인트(endpoint)를 생성합니다. 배포 인스턴스를 시작하기 때문에 약 7분에서 10분의 시간이 소요됩니다. "
   ]
  },
  {
   "cell_type": "code",
   "execution_count": 27,
   "metadata": {},
   "outputs": [
    {
     "name": "stderr",
     "output_type": "stream",
     "text": [
      "update_endpoint is a no-op in sagemaker>=2.\n",
      "See: https://sagemaker.readthedocs.io/en/stable/v2.html for details.\n"
     ]
    },
    {
     "name": "stdout",
     "output_type": "stream",
     "text": [
      "-------------!CPU times: user 239 ms, sys: 16.6 ms, total: 255 ms\n",
      "Wall time: 6min 31s\n"
     ]
    }
   ],
   "source": [
    "%%time\n",
    "predictor = estimator.deploy(initial_instance_count=1,instance_type='ml.m4.xlarge')"
   ]
  },
  {
   "cell_type": "markdown",
   "metadata": {},
   "source": [
    "## 엔드포인트 대상으로 추론\n",
    "\n",
    "엔드포인트(endpoint)가 정상적으로 작동하는지 검증하기 위해, 여러분께서는 랜덤 데이터를 생성하여 예측(prediction)을 수행합니다."
   ]
  },
  {
   "cell_type": "markdown",
   "metadata": {},
   "source": [
    "### Fake로 데이터 생성하여 추론"
   ]
  },
  {
   "cell_type": "code",
   "execution_count": 28,
   "metadata": {},
   "outputs": [
    {
     "name": "stdout",
     "output_type": "stream",
     "text": [
      "Predicted class is 2\n"
     ]
    }
   ],
   "source": [
    "# Creating fake prediction data\n",
    "import numpy as np\n",
    "data = np.random.randn(1, 32, 32, 3)\n",
    "print(\"Predicted class is {}\".format(np.argmax(predictor.predict(data)['predictions'])))"
   ]
  },
  {
   "cell_type": "markdown",
   "metadata": {},
   "source": [
    "## Cifar10 테스트 데이터 추론 예시 1\n",
    "\n",
    "아래는 먼저 해당 이미지를 보여주고 실제 레이블 값을 보여줍니다."
   ]
  },
  {
   "cell_type": "code",
   "execution_count": 29,
   "metadata": {},
   "outputs": [
    {
     "name": "stdout",
     "output_type": "stream",
     "text": [
      "file_name:  data/test/test_batch\n",
      "\n",
      "Example of Image 30:\n",
      "Image - Shape: (32, 32, 3)\n",
      "Label - Label Id: 6 Name: frog\n"
     ]
    },
    {
     "data": {
      "image/png": "[encoded data removed]",
      "text/plain": [
       "<Figure size 432x288 with 1 Axes>"
      ]
     },
     "metadata": {
      "image/png": {
       "height": 248,
       "width": 251
      },
      "needs_background": "light"
     },
     "output_type": "display_data"
    }
   ],
   "source": [
    "%matplotlib inline\n",
    "%config InlineBackend.figure_format = 'retina'\n",
    "\n",
    "import utils.p_utils \n",
    "from importlib import reload\n",
    "\n",
    "utils.p_utils = reload(utils.p_utils)\n",
    "from utils.p_utils import load_cfar10_batch, display_img\n",
    "\n",
    "cifar10_dataset_file_path ='data/test/test_batch'\n",
    "features, labels = load_cfar10_batch(cifar10_dataset_file_path)        \n",
    "\n",
    "sample_id = 30\n",
    "feature, label = display_img(features,labels, sample_id )\n",
    "\n"
   ]
  },
  {
   "cell_type": "markdown",
   "metadata": {},
   "source": [
    "생성한 predictor에 입력 데이터를 넣어서 각 클래스(10개)의 Score 값을 가져오고, 여기서 가장 큰 값을 lable 로 예측 합니다."
   ]
  },
  {
   "cell_type": "code",
   "execution_count": 30,
   "metadata": {},
   "outputs": [
    {
     "name": "stdout",
     "output_type": "stream",
     "text": [
      "shape:  (1, 32, 32, 3)\n",
      "{'predictions': [[0.000682036858, 0.00256012846, 0.0670282, 0.355795801, 0.148625672, 0.149169877, 0.255726099, 0.0189486612, 0.000825191, 0.000638342404]]}\n",
      "Predicted class is 3\n"
     ]
    }
   ],
   "source": [
    "import numpy as np\n",
    "\n",
    "r_feature = feature[np.newaxis, :, :, :]\n",
    "print(\"shape: \", r_feature.shape)\n",
    "\n",
    "pred_response = predictor.predict(r_feature)\n",
    "print(pred_response)\n",
    "print(\"Predicted class is {}\".format(np.argmax(pred_response['predictions'])))"
   ]
  },
  {
   "cell_type": "markdown",
   "metadata": {},
   "source": [
    "## Cifar10 테스트 데이터 추론 예시 2"
   ]
  },
  {
   "cell_type": "code",
   "execution_count": 31,
   "metadata": {},
   "outputs": [
    {
     "name": "stdout",
     "output_type": "stream",
     "text": [
      "\n",
      "Example of Image 50:\n",
      "Image - Shape: (32, 32, 3)\n",
      "Label - Label Id: 9 Name: truck\n"
     ]
    },
    {
     "data": {
      "image/png": "[encoded data removed]",
      "text/plain": [
       "<Figure size 432x288 with 1 Axes>"
      ]
     },
     "metadata": {
      "image/png": {
       "height": 248,
       "width": 251
      },
      "needs_background": "light"
     },
     "output_type": "display_data"
    }
   ],
   "source": [
    "sample_id = 50\n",
    "feature, label = display_img(features,labels, sample_id )\n",
    "\n"
   ]
  },
  {
   "cell_type": "code",
   "execution_count": 32,
   "metadata": {},
   "outputs": [
    {
     "name": "stdout",
     "output_type": "stream",
     "text": [
      "shape:  (1, 32, 32, 3)\n",
      "{'predictions': [[0.0627915263, 0.169832915, 0.0690119, 0.108748749, 0.0613935515, 0.110146046, 0.0549058281, 0.134454831, 0.0481360853, 0.180578604]]}\n",
      "Predicted class is 9\n"
     ]
    }
   ],
   "source": [
    "import numpy as np\n",
    "\n",
    "r_feature = feature[np.newaxis, :, :, :]\n",
    "print(\"shape: \", r_feature.shape)\n",
    "\n",
    "pred_response = predictor.predict(r_feature)\n",
    "print(pred_response)\n",
    "print(\"Predicted class is {}\".format(np.argmax(pred_response['predictions'])))"
   ]
  },
  {
   "cell_type": "markdown",
   "metadata": {},
   "source": [
    "# 리소스 제거\n",
    "본 워크샵에서 사용한 리소스에 대해 여러분의 AWS 계정에 과금되지 않도록 하려면 SageMaker Endpoint를 삭제해야 합니다."
   ]
  },
  {
   "cell_type": "code",
   "execution_count": 33,
   "metadata": {},
   "outputs": [],
   "source": [
    "# sagemaker_session.delete_endpoint(predictor.endpoint)"
   ]
  }
 ],
 "metadata": {
  "kernelspec": {
   "display_name": "conda_tensorflow_p36",
   "language": "python",
   "name": "conda_tensorflow_p36"
  },
  "language_info": {
   "codemirror_mode": {
    "name": "ipython",
    "version": 3
   },
   "file_extension": ".py",
   "mimetype": "text/x-python",
   "name": "python",
   "nbconvert_exporter": "python",
   "pygments_lexer": "ipython3",
   "version": "3.6.10"
  }
 },
 "nbformat": 4,
 "nbformat_minor": 4
}
