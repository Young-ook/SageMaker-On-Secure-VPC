{
 "cells": [
  {
   "cell_type": "markdown",
   "metadata": {},
   "source": [
    "# [Module 1] Train a Keras Sequential Model (TensorFlow 2.0)\n",
    "\n",
    "### [Note] 본 주피터 노트북은 TensorFlow 2.0에서 핸즈온을 수행합니다. Amazon SageMaker는 2020년 1월부터 빌트인 딥러닝 컨테이너 형태로 TensorFlow 2.0을 지원하고 있습니다.\n",
    "\n",
    "본 노트북(notebook)은 SageMaker 상에서 Keras Sequential model을 학습하는 방법을 단계별로 설명합니다. 본 노트북에서 사용한 모델은 간단한 deep CNN(Convolutional Neural Network) 모델로 [the Keras examples](https://github.com/keras-team/keras/blob/master/examples/cifar10_cnn.py)에 소개된 모델과 동일합니다.\n",
    "- 참고로, 본 모델은 25 epoch 학습 후에 검증셋의 정확도(accuracy)가 약 75%이고 50 epoch 학습 후에 검증셋의 정확도가 약 79% 입니다.\n",
    "- 본 워크샵 과정에서는 시간 관계상 5 epoch까지만 학습합니다. (단, Horovod 기반 분산 학습은 10 epoch까지 학습합니다.)"
   ]
  },
  {
   "cell_type": "code",
   "execution_count": 1,
   "metadata": {},
   "outputs": [],
   "source": [
    "# !pip install tensorflow==2.0.0"
   ]
  },
  {
   "cell_type": "code",
   "execution_count": 4,
   "metadata": {},
   "outputs": [
    {
     "name": "stdout",
     "output_type": "stream",
     "text": [
      "Num GPUs Available:  1\n"
     ]
    }
   ],
   "source": [
    "import tensorflow as tf\n",
    "import numpy as np\n",
    "print(\"Num GPUs Available: \", len(tf.config.experimental.list_physical_devices('GPU')))"
   ]
  },
  {
   "cell_type": "code",
   "execution_count": 5,
   "metadata": {},
   "outputs": [
    {
     "data": {
      "text/plain": [
       "'2.1.2'"
      ]
     },
     "execution_count": 5,
     "metadata": {},
     "output_type": "execute_result"
    }
   ],
   "source": [
    "tf.__version__"
   ]
  },
  {
   "cell_type": "code",
   "execution_count": 6,
   "metadata": {},
   "outputs": [],
   "source": [
    "# !aws s3 cp --recursive s3://floor28/data/cifar10 ./data"
   ]
  },
  {
   "cell_type": "markdown",
   "metadata": {},
   "source": [
    "## Run the training locally"
   ]
  },
  {
   "cell_type": "markdown",
   "metadata": {},
   "source": [
    "본 스크립트는 모델 학습에 필요한 인자값(arguments)들을 사용합니다. 모델 학습에 필요한 인자값들은 아래와 같습니다.\n",
    "\n",
    "1. `model_dir` - 로그와 체크 포인트를 저장하는 경로\n",
    "2. `train, validation, eval` - TFRecord 데이터셋을 저장하는 경로\n",
    "3. `epochs` - epoch 횟수\n",
    "\n",
    "아래 명령어로 **<font color='red'>SageMaker 관련 API 호출 없이</font>** 로컬 노트북 인스턴스 환경에서 1 epoch만 학습해 봅니다. 참고로, MacBook Pro(15-inch, 2018) 2.6GHz Core i7 16GB 사양에서 2분 20초~2분 40초 소요됩니다."
   ]
  },
  {
   "cell_type": "code",
   "execution_count": 7,
   "metadata": {},
   "outputs": [
    {
     "name": "stdout",
     "output_type": "stream",
     "text": [
      "Train for 312 steps, validate for 78 steps\n",
      "312/312 [==============================] - 42s 135ms/step - loss: 1.8464 - accuracy: 0.3202 - val_loss: 2.5507 - val_accuracy: 0.2136\n",
      "WARNING:tensorflow:From /home/ec2-user/anaconda3/envs/tensorflow2_p36/lib/python3.6/site-packages/tensorflow_core/python/ops/resource_variable_ops.py:1786: calling BaseResourceVariable.__init__ (from tensorflow.python.ops.resource_variable_ops) with constraint is deprecated and will be removed in a future version.\n",
      "Instructions for updating:\n",
      "If using Keras pass *_constraint arguments to layers.\n",
      "WARNING:tensorflow:From /home/ec2-user/anaconda3/envs/tensorflow2_p36/lib/python3.6/site-packages/tensorflow_core/python/ops/resource_variable_ops.py:1786: calling BaseResourceVariable.__init__ (from tensorflow.python.ops.resource_variable_ops) with constraint is deprecated and will be removed in a future version.\n",
      "Instructions for updating:\n",
      "If using Keras pass *_constraint arguments to layers.\n",
      "INFO:tensorflow:Assets written to: ./logs/1/assets\n",
      "INFO:tensorflow:Assets written to: ./logs/1/assets\n",
      "CPU times: user 1.5 s, sys: 442 ms, total: 1.94 s\n",
      "Wall time: 1min 32s\n"
     ]
    }
   ],
   "source": [
    "%%time\n",
    "!mkdir -p logs\n",
    "!python training_script/cifar10_keras_tf2.py --model_dir ./logs \\\n",
    "                                         --train data/train \\\n",
    "                                         --validation data/validation \\\n",
    "                                         --eval data/eval \\\n",
    "                                         --epochs 1\n",
    "!rm -rf logs"
   ]
  },
  {
   "cell_type": "markdown",
   "metadata": {},
   "source": [
    "**<font color='blue'>본 스크립트는 SageMaker상의 notebook에서 구동하고 있지만, 여러분의 로컬 컴퓨터에서도 python과 jupyter notebook이 정상적으로 인스톨되어 있다면 동일하게 수행 가능합니다.</font>**"
   ]
  },
  {
   "cell_type": "markdown",
   "metadata": {},
   "source": [
    "### Test your script locally (just like on your laptop)\n",
    "\n",
    "테스트를 위해 위와 동일한 명령(command)으로 새 스크립트를 실행하고, 예상대로 실행되는지 확인합니다. <br>\n",
    "SageMaker TensorFlow API 호출 시에 환경 변수들은 자동으로 넘겨기지만, 로컬 주피터 노트북에서 테스트 시에는 수동으로 환경 변수들을 지정해야 합니다. (아래 예제 코드를 참조해 주세요.)\n",
    "\n",
    "```python\n",
    "%env SM_MODEL_DIR=./logs\n",
    "```"
   ]
  },
  {
   "cell_type": "code",
   "execution_count": 8,
   "metadata": {},
   "outputs": [
    {
     "name": "stdout",
     "output_type": "stream",
     "text": [
      "env: SM_NUM_GPUS=1\n",
      "env: SM_MODEL_DIR=./logs\n",
      "env: SM_CHANNEL_TRAIN=data/train\n",
      "env: SM_CHANNEL_VALIDATION=data/validation\n",
      "env: SM_CHANNEL_EVAL=data/eval\n",
      "Train for 312 steps, validate for 78 steps\n",
      "312/312 [==============================] - 11s 34ms/step - loss: 1.8523 - accuracy: 0.3182 - val_loss: 1.8805 - val_accuracy: 0.3424\n",
      "WARNING:tensorflow:From /home/ec2-user/anaconda3/envs/tensorflow2_p36/lib/python3.6/site-packages/tensorflow_core/python/ops/resource_variable_ops.py:1786: calling BaseResourceVariable.__init__ (from tensorflow.python.ops.resource_variable_ops) with constraint is deprecated and will be removed in a future version.\n",
      "Instructions for updating:\n",
      "If using Keras pass *_constraint arguments to layers.\n",
      "WARNING:tensorflow:From /home/ec2-user/anaconda3/envs/tensorflow2_p36/lib/python3.6/site-packages/tensorflow_core/python/ops/resource_variable_ops.py:1786: calling BaseResourceVariable.__init__ (from tensorflow.python.ops.resource_variable_ops) with constraint is deprecated and will be removed in a future version.\n",
      "Instructions for updating:\n",
      "If using Keras pass *_constraint arguments to layers.\n",
      "INFO:tensorflow:Assets written to: ./logs/1/assets\n",
      "INFO:tensorflow:Assets written to: ./logs/1/assets\n",
      "CPU times: user 478 ms, sys: 108 ms, total: 586 ms\n",
      "Wall time: 21.4 s\n"
     ]
    }
   ],
   "source": [
    "%%time\n",
    "!mkdir -p logs   \n",
    "\n",
    "# Number of GPUs on this machine\n",
    "%env SM_NUM_GPUS=1\n",
    "# Where to save the model\n",
    "%env SM_MODEL_DIR=./logs\n",
    "# Where the training data is\n",
    "%env SM_CHANNEL_TRAIN=data/train\n",
    "# Where the validation data is\n",
    "%env SM_CHANNEL_VALIDATION=data/validation\n",
    "# Where the evaluation data is\n",
    "%env SM_CHANNEL_EVAL=data/eval\n",
    "\n",
    "!python training_script/cifar10_keras_sm_tf2.py --model_dir ./logs --epochs 1\n",
    "!rm -rf logs"
   ]
  },
  {
   "cell_type": "markdown",
   "metadata": {},
   "source": [
    "### Use SageMaker local for local testing\n",
    "\n",
    "본격적으로 학습을 시작하기 전에 로컬 모드를 사용하여 디버깅을 먼저 수행합니다. 로컬 모드는 학습 인스턴스를 생성하는 과정이 없이 로컬 인스턴스로 컨테이너를 가져온 후 곧바로 학습을 수행하기 때문에 코드를 보다 신속히 검증할 수 있습니다.\n",
    "\n",
    "Amazon SageMaker Python SDK의 로컬 모드는 TensorFlow 또는 MXNet estimator서 단일 인자값을 변경하여 CPU (단일 및 다중 인스턴스) 및 GPU (단일 인스턴스) SageMaker 학습 작업을 에뮬레이션(enumlate)할 수 있습니다. 이를 위해 Docker compose와 NVIDIA Docker를 사용합니다.\n",
    "학습 작업을 시작하기 위해 `estimator.fit() ` 호출 시, Amazon ECS에서 Amazon SageMaker TensorFlow 컨테이너를 로컬 노트북 인스턴스로 다운로드합니다.\n",
    "\n",
    "로컬 모드의 학습을 통해 여러분의 코드가 현재 사용 중인 하드웨어를 적절히 활용하고 있는지 확인하기 위한 GPU 점유와 같은 지표(metric)를 쉽게 모니터링할 수 있습니다."
   ]
  },
  {
   "cell_type": "code",
   "execution_count": 9,
   "metadata": {},
   "outputs": [],
   "source": [
    "import os\n",
    "import sagemaker\n",
    "from sagemaker import get_execution_role\n",
    "\n",
    "sagemaker_session = sagemaker.Session()\n",
    "\n",
    "role = get_execution_role()"
   ]
  },
  {
   "cell_type": "markdown",
   "metadata": {},
   "source": [
    "`sagemaker.tensorflow` 클래스를 사용하여 SageMaker Python SDK의 Tensorflow Estimator 인스턴스를 생성합니다.\n",
    "인자값으로 하이퍼파라메터와 다양한 설정들을 변경할 수 있습니다.\n",
    "\n",
    "자세한 내용은 [documentation](https://sagemaker.readthedocs.io/en/stable/using_tf.html#training-with-tensorflow-estimator)을 확인하시기 바랍니다."
   ]
  },
  {
   "cell_type": "code",
   "execution_count": 10,
   "metadata": {},
   "outputs": [
    {
     "name": "stderr",
     "output_type": "stream",
     "text": [
      "train_instance_type has been renamed in sagemaker>=2.\n",
      "See: https://sagemaker.readthedocs.io/en/stable/v2.html for details.\n",
      "train_instance_count has been renamed in sagemaker>=2.\n",
      "See: https://sagemaker.readthedocs.io/en/stable/v2.html for details.\n",
      "train_instance_type has been renamed in sagemaker>=2.\n",
      "See: https://sagemaker.readthedocs.io/en/stable/v2.html for details.\n"
     ]
    }
   ],
   "source": [
    "from sagemaker.tensorflow import TensorFlow\n",
    "estimator = TensorFlow(base_job_name='cifar10',\n",
    "                       entry_point='cifar10_keras_sm_tf2.py',\n",
    "                       source_dir='training_script',\n",
    "                       role=role,\n",
    "                       framework_version='2.0.0',\n",
    "                       py_version='py3',\n",
    "                       script_mode=True,\n",
    "                       hyperparameters={'epochs' : 1},\n",
    "                       train_instance_count=1, \n",
    "                       train_instance_type='local')"
   ]
  },
  {
   "cell_type": "markdown",
   "metadata": {},
   "source": [
    "학습을 수행할 3개의 채널과 데이터의 경로를 지정합니다. **로컬 모드로 수행하기 때문에 S3 경로 대신 노트북 인스턴스의 경로를 지정하시면 됩니다.**"
   ]
  },
  {
   "cell_type": "code",
   "execution_count": 11,
   "metadata": {},
   "outputs": [
    {
     "name": "stdout",
     "output_type": "stream",
     "text": [
      "Creating tmp5oqmwdvc_algo-1-hu4ly_1 ... \n",
      "\u001b[1BAttaching to tmp5oqmwdvc_algo-1-hu4ly_12mdone\u001b[0m\n",
      "\u001b[36malgo-1-hu4ly_1  |\u001b[0m 2021-01-26 00:50:53,707 sagemaker-containers INFO     Imported framework sagemaker_tensorflow_container.training\n",
      "\u001b[36malgo-1-hu4ly_1  |\u001b[0m 2021-01-26 00:50:53,715 sagemaker-containers INFO     No GPUs detected (normal if no gpus installed)\n",
      "\u001b[36malgo-1-hu4ly_1  |\u001b[0m 2021-01-26 00:50:53,945 sagemaker-containers INFO     No GPUs detected (normal if no gpus installed)\n",
      "\u001b[36malgo-1-hu4ly_1  |\u001b[0m 2021-01-26 00:50:53,966 sagemaker-containers INFO     No GPUs detected (normal if no gpus installed)\n",
      "\u001b[36malgo-1-hu4ly_1  |\u001b[0m 2021-01-26 00:50:53,984 sagemaker-containers INFO     No GPUs detected (normal if no gpus installed)\n",
      "\u001b[36malgo-1-hu4ly_1  |\u001b[0m 2021-01-26 00:50:53,996 sagemaker-containers INFO     Invoking user script\n",
      "\u001b[36malgo-1-hu4ly_1  |\u001b[0m \n",
      "\u001b[36malgo-1-hu4ly_1  |\u001b[0m Training Env:\n",
      "\u001b[36malgo-1-hu4ly_1  |\u001b[0m \n",
      "\u001b[36malgo-1-hu4ly_1  |\u001b[0m {\n",
      "\u001b[36malgo-1-hu4ly_1  |\u001b[0m     \"additional_framework_parameters\": {},\n",
      "\u001b[36malgo-1-hu4ly_1  |\u001b[0m     \"channel_input_dirs\": {\n",
      "\u001b[36malgo-1-hu4ly_1  |\u001b[0m         \"train\": \"/opt/ml/input/data/train\",\n",
      "\u001b[36malgo-1-hu4ly_1  |\u001b[0m         \"validation\": \"/opt/ml/input/data/validation\",\n",
      "\u001b[36malgo-1-hu4ly_1  |\u001b[0m         \"eval\": \"/opt/ml/input/data/eval\"\n",
      "\u001b[36malgo-1-hu4ly_1  |\u001b[0m     },\n",
      "\u001b[36malgo-1-hu4ly_1  |\u001b[0m     \"current_host\": \"algo-1-hu4ly\",\n",
      "\u001b[36malgo-1-hu4ly_1  |\u001b[0m     \"framework_module\": \"sagemaker_tensorflow_container.training:main\",\n",
      "\u001b[36malgo-1-hu4ly_1  |\u001b[0m     \"hosts\": [\n",
      "\u001b[36malgo-1-hu4ly_1  |\u001b[0m         \"algo-1-hu4ly\"\n",
      "\u001b[36malgo-1-hu4ly_1  |\u001b[0m     ],\n",
      "\u001b[36malgo-1-hu4ly_1  |\u001b[0m     \"hyperparameters\": {\n",
      "\u001b[36malgo-1-hu4ly_1  |\u001b[0m         \"epochs\": 1,\n",
      "\u001b[36malgo-1-hu4ly_1  |\u001b[0m         \"model_dir\": \"s3://sagemaker-us-west-2-057716757052/cifar10-2021-01-26-00-50-09-157/model\"\n",
      "\u001b[36malgo-1-hu4ly_1  |\u001b[0m     },\n",
      "\u001b[36malgo-1-hu4ly_1  |\u001b[0m     \"input_config_dir\": \"/opt/ml/input/config\",\n",
      "\u001b[36malgo-1-hu4ly_1  |\u001b[0m     \"input_data_config\": {\n",
      "\u001b[36malgo-1-hu4ly_1  |\u001b[0m         \"train\": {\n",
      "\u001b[36malgo-1-hu4ly_1  |\u001b[0m             \"TrainingInputMode\": \"File\"\n",
      "\u001b[36malgo-1-hu4ly_1  |\u001b[0m         },\n",
      "\u001b[36malgo-1-hu4ly_1  |\u001b[0m         \"validation\": {\n",
      "\u001b[36malgo-1-hu4ly_1  |\u001b[0m             \"TrainingInputMode\": \"File\"\n",
      "\u001b[36malgo-1-hu4ly_1  |\u001b[0m         },\n",
      "\u001b[36malgo-1-hu4ly_1  |\u001b[0m         \"eval\": {\n",
      "\u001b[36malgo-1-hu4ly_1  |\u001b[0m             \"TrainingInputMode\": \"File\"\n",
      "\u001b[36malgo-1-hu4ly_1  |\u001b[0m         }\n",
      "\u001b[36malgo-1-hu4ly_1  |\u001b[0m     },\n",
      "\u001b[36malgo-1-hu4ly_1  |\u001b[0m     \"input_dir\": \"/opt/ml/input\",\n",
      "\u001b[36malgo-1-hu4ly_1  |\u001b[0m     \"is_master\": true,\n",
      "\u001b[36malgo-1-hu4ly_1  |\u001b[0m     \"job_name\": \"cifar10-2021-01-26-00-50-09-157\",\n",
      "\u001b[36malgo-1-hu4ly_1  |\u001b[0m     \"log_level\": 20,\n",
      "\u001b[36malgo-1-hu4ly_1  |\u001b[0m     \"master_hostname\": \"algo-1-hu4ly\",\n",
      "\u001b[36malgo-1-hu4ly_1  |\u001b[0m     \"model_dir\": \"/opt/ml/model\",\n",
      "\u001b[36malgo-1-hu4ly_1  |\u001b[0m     \"module_dir\": \"s3://sagemaker-us-west-2-057716757052/cifar10-2021-01-26-00-50-09-157/source/sourcedir.tar.gz\",\n",
      "\u001b[36malgo-1-hu4ly_1  |\u001b[0m     \"module_name\": \"cifar10_keras_sm_tf2\",\n",
      "\u001b[36malgo-1-hu4ly_1  |\u001b[0m     \"network_interface_name\": \"eth0\",\n",
      "\u001b[36malgo-1-hu4ly_1  |\u001b[0m     \"num_cpus\": 8,\n",
      "\u001b[36malgo-1-hu4ly_1  |\u001b[0m     \"num_gpus\": 0,\n",
      "\u001b[36malgo-1-hu4ly_1  |\u001b[0m     \"output_data_dir\": \"/opt/ml/output/data\",\n",
      "\u001b[36malgo-1-hu4ly_1  |\u001b[0m     \"output_dir\": \"/opt/ml/output\",\n",
      "\u001b[36malgo-1-hu4ly_1  |\u001b[0m     \"output_intermediate_dir\": \"/opt/ml/output/intermediate\",\n",
      "\u001b[36malgo-1-hu4ly_1  |\u001b[0m     \"resource_config\": {\n",
      "\u001b[36malgo-1-hu4ly_1  |\u001b[0m         \"current_host\": \"algo-1-hu4ly\",\n",
      "\u001b[36malgo-1-hu4ly_1  |\u001b[0m         \"hosts\": [\n",
      "\u001b[36malgo-1-hu4ly_1  |\u001b[0m             \"algo-1-hu4ly\"\n",
      "\u001b[36malgo-1-hu4ly_1  |\u001b[0m         ]\n",
      "\u001b[36malgo-1-hu4ly_1  |\u001b[0m     },\n",
      "\u001b[36malgo-1-hu4ly_1  |\u001b[0m     \"user_entry_point\": \"cifar10_keras_sm_tf2.py\"\n",
      "\u001b[36malgo-1-hu4ly_1  |\u001b[0m }\n",
      "\u001b[36malgo-1-hu4ly_1  |\u001b[0m \n",
      "\u001b[36malgo-1-hu4ly_1  |\u001b[0m Environment variables:\n",
      "\u001b[36malgo-1-hu4ly_1  |\u001b[0m \n",
      "\u001b[36malgo-1-hu4ly_1  |\u001b[0m SM_HOSTS=[\"algo-1-hu4ly\"]\n",
      "\u001b[36malgo-1-hu4ly_1  |\u001b[0m SM_NETWORK_INTERFACE_NAME=eth0\n",
      "\u001b[36malgo-1-hu4ly_1  |\u001b[0m SM_HPS={\"epochs\":1,\"model_dir\":\"s3://sagemaker-us-west-2-057716757052/cifar10-2021-01-26-00-50-09-157/model\"}\n",
      "\u001b[36malgo-1-hu4ly_1  |\u001b[0m SM_USER_ENTRY_POINT=cifar10_keras_sm_tf2.py\n",
      "\u001b[36malgo-1-hu4ly_1  |\u001b[0m SM_FRAMEWORK_PARAMS={}\n",
      "\u001b[36malgo-1-hu4ly_1  |\u001b[0m SM_RESOURCE_CONFIG={\"current_host\":\"algo-1-hu4ly\",\"hosts\":[\"algo-1-hu4ly\"]}\n",
      "\u001b[36malgo-1-hu4ly_1  |\u001b[0m SM_INPUT_DATA_CONFIG={\"eval\":{\"TrainingInputMode\":\"File\"},\"train\":{\"TrainingInputMode\":\"File\"},\"validation\":{\"TrainingInputMode\":\"File\"}}\n",
      "\u001b[36malgo-1-hu4ly_1  |\u001b[0m SM_OUTPUT_DATA_DIR=/opt/ml/output/data\n",
      "\u001b[36malgo-1-hu4ly_1  |\u001b[0m SM_CHANNELS=[\"eval\",\"train\",\"validation\"]\n",
      "\u001b[36malgo-1-hu4ly_1  |\u001b[0m SM_CURRENT_HOST=algo-1-hu4ly\n",
      "\u001b[36malgo-1-hu4ly_1  |\u001b[0m SM_MODULE_NAME=cifar10_keras_sm_tf2\n",
      "\u001b[36malgo-1-hu4ly_1  |\u001b[0m SM_LOG_LEVEL=20\n",
      "\u001b[36malgo-1-hu4ly_1  |\u001b[0m SM_FRAMEWORK_MODULE=sagemaker_tensorflow_container.training:main\n",
      "\u001b[36malgo-1-hu4ly_1  |\u001b[0m SM_INPUT_DIR=/opt/ml/input\n",
      "\u001b[36malgo-1-hu4ly_1  |\u001b[0m SM_INPUT_CONFIG_DIR=/opt/ml/input/config\n",
      "\u001b[36malgo-1-hu4ly_1  |\u001b[0m SM_OUTPUT_DIR=/opt/ml/output\n",
      "\u001b[36malgo-1-hu4ly_1  |\u001b[0m SM_NUM_CPUS=8\n",
      "\u001b[36malgo-1-hu4ly_1  |\u001b[0m SM_NUM_GPUS=0\n",
      "\u001b[36malgo-1-hu4ly_1  |\u001b[0m SM_MODEL_DIR=/opt/ml/model\n",
      "\u001b[36malgo-1-hu4ly_1  |\u001b[0m SM_MODULE_DIR=s3://sagemaker-us-west-2-057716757052/cifar10-2021-01-26-00-50-09-157/source/sourcedir.tar.gz\n",
      "\u001b[36malgo-1-hu4ly_1  |\u001b[0m SM_TRAINING_ENV={\"additional_framework_parameters\":{},\"channel_input_dirs\":{\"eval\":\"/opt/ml/input/data/eval\",\"train\":\"/opt/ml/input/data/train\",\"validation\":\"/opt/ml/input/data/validation\"},\"current_host\":\"algo-1-hu4ly\",\"framework_module\":\"sagemaker_tensorflow_container.training:main\",\"hosts\":[\"algo-1-hu4ly\"],\"hyperparameters\":{\"epochs\":1,\"model_dir\":\"s3://sagemaker-us-west-2-057716757052/cifar10-2021-01-26-00-50-09-157/model\"},\"input_config_dir\":\"/opt/ml/input/config\",\"input_data_config\":{\"eval\":{\"TrainingInputMode\":\"File\"},\"train\":{\"TrainingInputMode\":\"File\"},\"validation\":{\"TrainingInputMode\":\"File\"}},\"input_dir\":\"/opt/ml/input\",\"is_master\":true,\"job_name\":\"cifar10-2021-01-26-00-50-09-157\",\"log_level\":20,\"master_hostname\":\"algo-1-hu4ly\",\"model_dir\":\"/opt/ml/model\",\"module_dir\":\"s3://sagemaker-us-west-2-057716757052/cifar10-2021-01-26-00-50-09-157/source/sourcedir.tar.gz\",\"module_name\":\"cifar10_keras_sm_tf2\",\"network_interface_name\":\"eth0\",\"num_cpus\":8,\"num_gpus\":0,\"output_data_dir\":\"/opt/ml/output/data\",\"output_dir\":\"/opt/ml/output\",\"output_intermediate_dir\":\"/opt/ml/output/intermediate\",\"resource_config\":{\"current_host\":\"algo-1-hu4ly\",\"hosts\":[\"algo-1-hu4ly\"]},\"user_entry_point\":\"cifar10_keras_sm_tf2.py\"}\n",
      "\u001b[36malgo-1-hu4ly_1  |\u001b[0m SM_USER_ARGS=[\"--epochs\",\"1\",\"--model_dir\",\"s3://sagemaker-us-west-2-057716757052/cifar10-2021-01-26-00-50-09-157/model\"]\n",
      "\u001b[36malgo-1-hu4ly_1  |\u001b[0m SM_OUTPUT_INTERMEDIATE_DIR=/opt/ml/output/intermediate\n",
      "\u001b[36malgo-1-hu4ly_1  |\u001b[0m SM_CHANNEL_TRAIN=/opt/ml/input/data/train\n",
      "\u001b[36malgo-1-hu4ly_1  |\u001b[0m SM_CHANNEL_VALIDATION=/opt/ml/input/data/validation\n",
      "\u001b[36malgo-1-hu4ly_1  |\u001b[0m SM_CHANNEL_EVAL=/opt/ml/input/data/eval\n",
      "\u001b[36malgo-1-hu4ly_1  |\u001b[0m SM_HP_EPOCHS=1\n",
      "\u001b[36malgo-1-hu4ly_1  |\u001b[0m SM_HP_MODEL_DIR=s3://sagemaker-us-west-2-057716757052/cifar10-2021-01-26-00-50-09-157/model\n",
      "\u001b[36malgo-1-hu4ly_1  |\u001b[0m PYTHONPATH=/opt/ml/code:/usr/local/bin:/usr/lib/python36.zip:/usr/lib/python3.6:/usr/lib/python3.6/lib-dynload:/usr/local/lib/python3.6/dist-packages:/usr/lib/python3/dist-packages\n",
      "\u001b[36malgo-1-hu4ly_1  |\u001b[0m \n",
      "\u001b[36malgo-1-hu4ly_1  |\u001b[0m Invoking script with the following command:\n",
      "\u001b[36malgo-1-hu4ly_1  |\u001b[0m \n",
      "\u001b[36malgo-1-hu4ly_1  |\u001b[0m /usr/bin/python3 cifar10_keras_sm_tf2.py --epochs 1 --model_dir s3://sagemaker-us-west-2-057716757052/cifar10-2021-01-26-00-50-09-157/model\n",
      "\u001b[36malgo-1-hu4ly_1  |\u001b[0m \n",
      "\u001b[36malgo-1-hu4ly_1  |\u001b[0m \n",
      "\u001b[36malgo-1-hu4ly_1  |\u001b[0m Train for 312 steps, validate for 78 steps\n",
      "312/312 [==============================] - 72s 229ms/step - loss: 1.8533 - accuracy: 0.3127 - val_loss: 2.0289 - val_accuracy: 0.2761\n",
      "\u001b[36malgo-1-hu4ly_1  |\u001b[0m 2021-01-26 00:52:17.646839: W tensorflow/python/util/util.cc:299] Sets are not currently considered sequences, but this may change in the future, so consider avoiding using them.\n",
      "\u001b[36malgo-1-hu4ly_1  |\u001b[0m WARNING:tensorflow:From /usr/local/lib/python3.6/dist-packages/tensorflow_core/python/ops/resource_variable_ops.py:1781: calling BaseResourceVariable.__init__ (from tensorflow.python.ops.resource_variable_ops) with constraint is deprecated and will be removed in a future version.\n",
      "\u001b[36malgo-1-hu4ly_1  |\u001b[0m Instructions for updating:\n",
      "\u001b[36malgo-1-hu4ly_1  |\u001b[0m If using Keras pass *_constraint arguments to layers.\n",
      "\u001b[36malgo-1-hu4ly_1  |\u001b[0m WARNING:tensorflow:From /usr/local/lib/python3.6/dist-packages/tensorflow_core/python/ops/resource_variable_ops.py:1781: calling BaseResourceVariable.__init__ (from tensorflow.python.ops.resource_variable_ops) with constraint is deprecated and will be removed in a future version.\n",
      "\u001b[36malgo-1-hu4ly_1  |\u001b[0m Instructions for updating:\n",
      "\u001b[36malgo-1-hu4ly_1  |\u001b[0m If using Keras pass *_constraint arguments to layers.\n",
      "\u001b[36malgo-1-hu4ly_1  |\u001b[0m INFO:tensorflow:Assets written to: /opt/ml/model/1/assets\n",
      "\u001b[36malgo-1-hu4ly_1  |\u001b[0m INFO:tensorflow:Assets written to: /opt/ml/model/1/assets\n",
      "\u001b[36malgo-1-hu4ly_1  |\u001b[0m 2021-01-26 00:52:20,671 sagemaker-containers INFO     Reporting training SUCCESS\n",
      "\u001b[36mtmp5oqmwdvc_algo-1-hu4ly_1 exited with code 0\n",
      "\u001b[0mAborting on container exit...\n",
      "===== Job Complete =====\n",
      "CPU times: user 1.21 s, sys: 154 ms, total: 1.36 s\n",
      "Wall time: 2min 13s\n"
     ]
    }
   ],
   "source": [
    "%%time\n",
    "estimator.fit({'train': 'file://data/train',\n",
    "               'validation': 'file://data/validation',\n",
    "               'eval': 'file://data/eval'})"
   ]
  },
  {
   "cell_type": "markdown",
   "metadata": {},
   "source": [
    "Estimator가 처음 실행될 때 Amazon ECR 리포지토리(repository)에서 컨테이너 이미지를 다운로드해야 하지만 학습을 즉시 시작할 수 있습니다. 즉, 별도의 학습 클러스터가 프로비저닝 될 때까지 기다릴 필요가 없습니다. 또한 반복 및 테스트시 필요할 수 있는 후속 실행에서 MXNet 또는 TensorFlow 스크립트에 대한 수정 사항이 즉시 실행되기 시작합니다."
   ]
  },
  {
   "cell_type": "markdown",
   "metadata": {},
   "source": [
    "### Using SageMaker for faster training time\n",
    "\n",
    "이번에는 로컬 모드를 사용하지 않고 SageMaker 학습에 GPU 학습 인스턴스를 생성하여 학습 시간을 단축해 봅니다.<br>\n",
    "로컬 모드와 다른 점들은 (1) `train_instance_type`이 로컬 모드의 ‘local’ 대신 여러분이 원하는 특정 인스턴스 유형으로 설정해야 하고, (2) 학습 데이터를 Amazon S3에 업로드 후 학습 경로를 S3 경로로 설정해야 합니다. \n",
    "\n",
    "SageMaker SDK는 S3 업로드를 위한 간단한 함수(`Session.upload_data()`)를 제공합니다. 이 함수를 통해 리턴되는 값은 데이터가 저장된 S3 경로입니다.\n",
    "좀 더 자세한 설정이 필요하다면 SageMaker SDK 대신 boto3를 사용하시면 됩니다.\n",
    "\n",
    "*[Note]: 고성능 워크로드를 위해 Amazon EFS와 Amazon FSx for Lustre도 지원하고 있습니다. 자세한 정보는 아래의 AWS 블로그를 참조해 주세요.<br>\n",
    "https://aws.amazon.com/blogs/machine-learning/speed-up-training-on-amazon-sagemaker-using-amazon-efs-or-amazon-fsx-for-lustre-file-systems/*"
   ]
  },
  {
   "cell_type": "code",
   "execution_count": 12,
   "metadata": {},
   "outputs": [
    {
     "data": {
      "text/plain": [
       "'s3://sagemaker-us-west-2-057716757052/data/DEMO-cifar10'"
      ]
     },
     "metadata": {},
     "output_type": "display_data"
    }
   ],
   "source": [
    "dataset_location = sagemaker_session.upload_data(path='data', key_prefix='data/DEMO-cifar10')\n",
    "display(dataset_location)"
   ]
  },
  {
   "cell_type": "markdown",
   "metadata": {},
   "source": [
    "S3에 데이터 업로드를 완료했다면, Estimator를 새로 생성합니다. <br>\n",
    "아래 코드를 그대로 복사 후에 `train_instance_type='local'`을 `train_instance_type='ml.p2.xlarge'`로 수정하고\n",
    "`hyperparameters={'epochs': 1}`를 `hyperparameters={'epochs': 5}`로 수정합니다.\n",
    "\n",
    "```python\n",
    "from sagemaker.tensorflow import TensorFlow\n",
    "estimator = TensorFlow(base_job_name='cifar10',\n",
    "                       entry_point='cifar10_keras_sm_tf2.py',\n",
    "                       source_dir='training_script',\n",
    "                       role=role,\n",
    "                       framework_version='2.0.0',\n",
    "                       py_version='py3',\n",
    "                       script_mode=True,                       \n",
    "                       hyperparameters={'epochs': 1},\n",
    "                       train_instance_count=1, \n",
    "                       train_instance_type='local')\n",
    "```\n",
    "\n",
    "*[Note] \n",
    "2019년 8월부터 SageMaker에서도 학습 인스턴스에 EC2 spot instance를 사용하여 비용을 크게 절감할 수 있습니다. 자세한 정보는 아래의 AWS 블로그를 참조해 주세요.<br>\n",
    "https://aws.amazon.com/ko/blogs/korea/managed-spot-training-save-up-to-90-on-your-amazon-sagemaker-training-jobs/*\n",
    "\n",
    "만약 Managed Spot Instance로 학습하려면 다음 코드를 Estimator의 train_instance_type의 다음 행에 추가해 주세요.\n",
    "```python\n",
    "train_max_run = 3600,\n",
    "train_use_spot_instances = 'True',\n",
    "train_max_wait = 3600,\n",
    "```"
   ]
  },
  {
   "cell_type": "code",
   "execution_count": 13,
   "metadata": {},
   "outputs": [
    {
     "name": "stderr",
     "output_type": "stream",
     "text": [
      "train_instance_type has been renamed in sagemaker>=2.\n",
      "See: https://sagemaker.readthedocs.io/en/stable/v2.html for details.\n",
      "train_instance_count has been renamed in sagemaker>=2.\n",
      "See: https://sagemaker.readthedocs.io/en/stable/v2.html for details.\n",
      "train_instance_type has been renamed in sagemaker>=2.\n",
      "See: https://sagemaker.readthedocs.io/en/stable/v2.html for details.\n"
     ]
    }
   ],
   "source": [
    "from sagemaker.tensorflow import TensorFlow\n",
    "estimator = TensorFlow(base_job_name='cifar10',\n",
    "                       entry_point='cifar10_keras_sm_tf2.py',\n",
    "                       source_dir='training_script',\n",
    "                       role=role,\n",
    "                       framework_version='2.0.0',\n",
    "                       py_version='py3',\n",
    "                       script_mode=True,                       \n",
    "                       hyperparameters={'epochs': 5},\n",
    "                       train_instance_count=1, \n",
    "                       train_instance_type='ml.p2.xlarge')"
   ]
  },
  {
   "cell_type": "markdown",
   "metadata": {},
   "source": [
    "학습을 수행합니다. 이번에는 각각의 채널(`train, validation, eval`)에 S3의 데이터 저장 위치를 지정합니다.<br>\n",
    "학습 완료 후 Billable seconds도 확인해 보세요. Billable seconds는 실제로 학습 수행 시 과금되는 시간입니다.\n",
    "```\n",
    "Billable seconds: <time>\n",
    "```\n",
    "\n",
    "참고로, `ml.p2.xlarge` 인스턴스로 5 epoch 학습 시 전체 6분-7분이 소요되고, 실제 학습에 소요되는 시간은 3분-4분이 소요됩니다."
   ]
  },
  {
   "cell_type": "code",
   "execution_count": 14,
   "metadata": {},
   "outputs": [
    {
     "name": "stdout",
     "output_type": "stream",
     "text": [
      "2021-01-26 00:52:26 Starting - Starting the training job...\n",
      "2021-01-26 00:52:50 Starting - Launching requested ML instancesProfilerReport-1611622345: InProgress\n",
      "......\n",
      "2021-01-26 00:53:56 Starting - Preparing the instances for training.........\n",
      "2021-01-26 00:55:26 Downloading - Downloading input data\n",
      "2021-01-26 00:55:26 Stopping - Stopping the training job\n",
      "2021-01-26 00:55:26 Stopped - Training job stopped\n",
      ".."
     ]
    },
    {
     "name": "stderr",
     "output_type": "stream",
     "text": [
      "Job ended with status 'Stopped' rather than 'Completed'. This could mean the job timed out or stopped early for some other reason: Consider checking whether it completed as you expect.\n"
     ]
    },
    {
     "name": "stdout",
     "output_type": "stream",
     "text": [
      "Training seconds: 1\n",
      "Billable seconds: 1\n",
      "CPU times: user 549 ms, sys: 32.8 ms, total: 582 ms\n",
      "Wall time: 3min 12s\n"
     ]
    }
   ],
   "source": [
    "%%time\n",
    "estimator.fit({'train':'{}/train'.format(dataset_location),\n",
    "              'validation':'{}/validation'.format(dataset_location),\n",
    "              'eval':'{}/eval'.format(dataset_location)})"
   ]
  },
  {
   "cell_type": "code",
   "execution_count": null,
   "metadata": {},
   "outputs": [],
   "source": []
  }
 ],
 "metadata": {
  "kernelspec": {
   "display_name": "conda_tensorflow2_p36",
   "language": "python",
   "name": "conda_tensorflow2_p36"
  },
  "language_info": {
   "codemirror_mode": {
    "name": "ipython",
    "version": 3
   },
   "file_extension": ".py",
   "mimetype": "text/x-python",
   "name": "python",
   "nbconvert_exporter": "python",
   "pygments_lexer": "ipython3",
   "version": "3.6.10"
  }
 },
 "nbformat": 4,
 "nbformat_minor": 4
}
