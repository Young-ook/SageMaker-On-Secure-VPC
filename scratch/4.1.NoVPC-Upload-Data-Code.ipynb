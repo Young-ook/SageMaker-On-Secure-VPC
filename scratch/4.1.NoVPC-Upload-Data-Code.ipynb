{
 "cells": [
  {
   "cell_type": "markdown",
   "metadata": {},
   "source": [
    "# [모듈 4.1] 데이터 및 코드를 S3에 업로드 (No VPC에서 실행)\n",
    "\n",
    "이 노트북은 아래의 작업을 실행 합니다.\n",
    "- 기존의 데이터를 S3, 로컬 Code 에서 삭제 합니다.\n",
    "- 데이터 업로드\n",
    "    - VPC안의 훈련 노트북에서 사용할 데이터를 `bucket = 'sagemaker-us-west-2-057716757052/SVPC/data'` 에 업로드 합니다.\n",
    "- 코드 업로드\n",
    "    - VPC안에서 사용할 코드를 `bucket = 'sagemaker-us-west-2-057716757052/SVPC/code'` 에 업로드 합니다.\n",
    "\n",
    "---"
   ]
  },
  {
   "cell_type": "markdown",
   "metadata": {},
   "source": [
    "## 기존 데이터 삭제\n",
    "- 버킷 데이터 삭제\n",
    "- 로컬 code 폴더 삭제"
   ]
  },
  {
   "cell_type": "code",
   "execution_count": 1,
   "metadata": {},
   "outputs": [],
   "source": [
    "! aws s3 rm s3://sagemaker-us-west-2-057716757052/SVPC/ --recursive"
   ]
  },
  {
   "cell_type": "code",
   "execution_count": 2,
   "metadata": {},
   "outputs": [],
   "source": [
    "! rm -rf code/"
   ]
  },
  {
   "cell_type": "markdown",
   "metadata": {},
   "source": [
    "## 데이터 업로드"
   ]
  },
  {
   "cell_type": "code",
   "execution_count": 3,
   "metadata": {},
   "outputs": [
    {
     "name": "stdout",
     "output_type": "stream",
     "text": [
      "s3://sagemaker-us-west-2-057716757052/SVPC/data\n"
     ]
    }
   ],
   "source": [
    "import sagemaker\n",
    "sagemaker_session = sagemaker.Session()\n",
    "\n",
    "bucket = 'sagemaker-us-west-2-057716757052'\n",
    "\n",
    "dataset_location = sagemaker_session.upload_data(path='data', bucket = bucket, key_prefix='SVPC/data')\n",
    "print(dataset_location)"
   ]
  },
  {
   "cell_type": "markdown",
   "metadata": {},
   "source": [
    "## 사용 코드를 code 폴더로 복사"
   ]
  },
  {
   "cell_type": "code",
   "execution_count": 4,
   "metadata": {},
   "outputs": [],
   "source": [
    "import os\n",
    "code_folder = 'code'\n",
    "os.makedirs(code_folder, exist_ok=True)\n",
    "notebook_files = '*.ipynb'\n",
    "train_code_folder = 'training_script'\n",
    "util_code_folder = 'utils'\n",
    "! cp -r {notebook_files} {code_folder} \n",
    "! cp -r {train_code_folder} {code_folder} \n",
    "! cp -r {util_code_folder} {code_folder} "
   ]
  },
  {
   "cell_type": "markdown",
   "metadata": {},
   "source": [
    "## 코드 업로드"
   ]
  },
  {
   "cell_type": "code",
   "execution_count": 5,
   "metadata": {},
   "outputs": [
    {
     "name": "stdout",
     "output_type": "stream",
     "text": [
      "s3://sagemaker-us-west-2-057716757052/SVPC/code\n"
     ]
    }
   ],
   "source": [
    "code_location = sagemaker_session.upload_data(path='code', bucket = bucket, key_prefix='SVPC/code')\n",
    "print(code_location)"
   ]
  },
  {
   "cell_type": "code",
   "execution_count": 6,
   "metadata": {},
   "outputs": [],
   "source": [
    "# ! aws s3 rm {dataset_location} --recursive"
   ]
  },
  {
   "cell_type": "code",
   "execution_count": 7,
   "metadata": {},
   "outputs": [],
   "source": [
    "# ! aws s3 rm {code_location} --recursive"
   ]
  },
  {
   "cell_type": "code",
   "execution_count": null,
   "metadata": {},
   "outputs": [],
   "source": []
  }
 ],
 "metadata": {
  "kernelspec": {
   "display_name": "conda_python3",
   "language": "python",
   "name": "conda_python3"
  },
  "language_info": {
   "codemirror_mode": {
    "name": "ipython",
    "version": 3
   },
   "file_extension": ".py",
   "mimetype": "text/x-python",
   "name": "python",
   "nbconvert_exporter": "python",
   "pygments_lexer": "ipython3",
   "version": "3.6.10"
  }
 },
 "nbformat": 4,
 "nbformat_minor": 4
}
