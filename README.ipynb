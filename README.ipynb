{
 "cells": [
  {
   "cell_type": "markdown",
   "metadata": {},
   "source": [
    "# 순서\n",
    "\n",
    "### No VPC 에서 실행\n",
    "- 데이터 다운로드, TFRecord 생성 및 S3 업로드\n",
    "- Code S3 업로드\n",
    "\n",
    "### Secure VPC 에서 실행\n",
    "- 훈련 코드에 Estimator에 subnet, security group 설정\n",
    "- 모델 훈련 실행"
   ]
  },
  {
   "cell_type": "code",
   "execution_count": null,
   "metadata": {},
   "outputs": [],
   "source": []
  }
 ],
 "metadata": {
  "kernelspec": {
   "display_name": "conda_python3",
   "language": "python",
   "name": "conda_python3"
  },
  "language_info": {
   "codemirror_mode": {
    "name": "ipython",
    "version": 3
   },
   "file_extension": ".py",
   "mimetype": "text/x-python",
   "name": "python",
   "nbconvert_exporter": "python",
   "pygments_lexer": "ipython3",
   "version": "3.6.10"
  }
 },
 "nbformat": 4,
 "nbformat_minor": 4
}
